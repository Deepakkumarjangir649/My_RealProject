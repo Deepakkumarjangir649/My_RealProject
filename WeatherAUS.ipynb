{
 "cells": [
  {
   "cell_type": "markdown",
   "id": "b49b825b-b9e4-439f-b378-8f2bfa3ebb4f",
   "metadata": {},
   "source": [
    "## Import Libraries "
   ]
  },
  {
   "cell_type": "code",
   "execution_count": 1,
   "id": "c8af4017-1138-4358-9404-92d5bded709e",
   "metadata": {},
   "outputs": [],
   "source": [
    "import pandas as pd  # data processing ,CSV file I/O\n",
    "import numpy as np # linear algebra\n",
    "import matplotlib.pyplot as plt\n",
    "import seaborn as sns\n",
    "import statsmodels.api as sm\n",
    "from sklearn import metrics\n",
    "import statsmodels.tsa.api as smt  \n",
    "import requests\n",
    "import io\n",
    "%matplotlib inline"
   ]
  },
  {
   "cell_type": "code",
   "execution_count": 2,
   "id": "20facb5d-f081-4891-8837-24ed69883675",
   "metadata": {},
   "outputs": [],
   "source": [
    "df = pd.read_csv(\"C:/Users/DEEPAK KUMAR/Desktop/Python Project/weatherAUS/weatherAUS.csv\")"
   ]
  },
  {
   "cell_type": "code",
   "execution_count": 3,
   "id": "68d0038a-852c-47ed-ae2e-ca52a8e30b0f",
   "metadata": {},
   "outputs": [
    {
     "data": {
      "text/html": [
       "<div>\n",
       "<style scoped>\n",
       "    .dataframe tbody tr th:only-of-type {\n",
       "        vertical-align: middle;\n",
       "    }\n",
       "\n",
       "    .dataframe tbody tr th {\n",
       "        vertical-align: top;\n",
       "    }\n",
       "\n",
       "    .dataframe thead th {\n",
       "        text-align: right;\n",
       "    }\n",
       "</style>\n",
       "<table border=\"1\" class=\"dataframe\">\n",
       "  <thead>\n",
       "    <tr style=\"text-align: right;\">\n",
       "      <th></th>\n",
       "      <th>Date</th>\n",
       "      <th>Location</th>\n",
       "      <th>MinTemp</th>\n",
       "      <th>MaxTemp</th>\n",
       "      <th>Rainfall</th>\n",
       "      <th>Evaporation</th>\n",
       "      <th>Sunshine</th>\n",
       "      <th>WindGustDir</th>\n",
       "      <th>WindGustSpeed</th>\n",
       "      <th>WindDir9am</th>\n",
       "      <th>...</th>\n",
       "      <th>Humidity3pm</th>\n",
       "      <th>Pressure9am</th>\n",
       "      <th>Pressure3pm</th>\n",
       "      <th>Cloud9am</th>\n",
       "      <th>Cloud3pm</th>\n",
       "      <th>Temp9am</th>\n",
       "      <th>Temp3pm</th>\n",
       "      <th>RainToday</th>\n",
       "      <th>RISK_MM</th>\n",
       "      <th>RainTomorrow</th>\n",
       "    </tr>\n",
       "  </thead>\n",
       "  <tbody>\n",
       "    <tr>\n",
       "      <th>0</th>\n",
       "      <td>2008-12-01</td>\n",
       "      <td>Albury</td>\n",
       "      <td>13.4</td>\n",
       "      <td>22.9</td>\n",
       "      <td>0.6</td>\n",
       "      <td>NaN</td>\n",
       "      <td>NaN</td>\n",
       "      <td>W</td>\n",
       "      <td>44.0</td>\n",
       "      <td>W</td>\n",
       "      <td>...</td>\n",
       "      <td>22.0</td>\n",
       "      <td>1007.7</td>\n",
       "      <td>1007.1</td>\n",
       "      <td>8.0</td>\n",
       "      <td>NaN</td>\n",
       "      <td>16.9</td>\n",
       "      <td>21.8</td>\n",
       "      <td>No</td>\n",
       "      <td>0.0</td>\n",
       "      <td>No</td>\n",
       "    </tr>\n",
       "    <tr>\n",
       "      <th>1</th>\n",
       "      <td>2008-12-02</td>\n",
       "      <td>Albury</td>\n",
       "      <td>7.4</td>\n",
       "      <td>25.1</td>\n",
       "      <td>0.0</td>\n",
       "      <td>NaN</td>\n",
       "      <td>NaN</td>\n",
       "      <td>WNW</td>\n",
       "      <td>44.0</td>\n",
       "      <td>NNW</td>\n",
       "      <td>...</td>\n",
       "      <td>25.0</td>\n",
       "      <td>1010.6</td>\n",
       "      <td>1007.8</td>\n",
       "      <td>NaN</td>\n",
       "      <td>NaN</td>\n",
       "      <td>17.2</td>\n",
       "      <td>24.3</td>\n",
       "      <td>No</td>\n",
       "      <td>0.0</td>\n",
       "      <td>No</td>\n",
       "    </tr>\n",
       "    <tr>\n",
       "      <th>2</th>\n",
       "      <td>2008-12-03</td>\n",
       "      <td>Albury</td>\n",
       "      <td>12.9</td>\n",
       "      <td>25.7</td>\n",
       "      <td>0.0</td>\n",
       "      <td>NaN</td>\n",
       "      <td>NaN</td>\n",
       "      <td>WSW</td>\n",
       "      <td>46.0</td>\n",
       "      <td>W</td>\n",
       "      <td>...</td>\n",
       "      <td>30.0</td>\n",
       "      <td>1007.6</td>\n",
       "      <td>1008.7</td>\n",
       "      <td>NaN</td>\n",
       "      <td>2.0</td>\n",
       "      <td>21.0</td>\n",
       "      <td>23.2</td>\n",
       "      <td>No</td>\n",
       "      <td>0.0</td>\n",
       "      <td>No</td>\n",
       "    </tr>\n",
       "    <tr>\n",
       "      <th>3</th>\n",
       "      <td>2008-12-04</td>\n",
       "      <td>Albury</td>\n",
       "      <td>9.2</td>\n",
       "      <td>28.0</td>\n",
       "      <td>0.0</td>\n",
       "      <td>NaN</td>\n",
       "      <td>NaN</td>\n",
       "      <td>NE</td>\n",
       "      <td>24.0</td>\n",
       "      <td>SE</td>\n",
       "      <td>...</td>\n",
       "      <td>16.0</td>\n",
       "      <td>1017.6</td>\n",
       "      <td>1012.8</td>\n",
       "      <td>NaN</td>\n",
       "      <td>NaN</td>\n",
       "      <td>18.1</td>\n",
       "      <td>26.5</td>\n",
       "      <td>No</td>\n",
       "      <td>1.0</td>\n",
       "      <td>No</td>\n",
       "    </tr>\n",
       "    <tr>\n",
       "      <th>4</th>\n",
       "      <td>2008-12-05</td>\n",
       "      <td>Albury</td>\n",
       "      <td>17.5</td>\n",
       "      <td>32.3</td>\n",
       "      <td>1.0</td>\n",
       "      <td>NaN</td>\n",
       "      <td>NaN</td>\n",
       "      <td>W</td>\n",
       "      <td>41.0</td>\n",
       "      <td>ENE</td>\n",
       "      <td>...</td>\n",
       "      <td>33.0</td>\n",
       "      <td>1010.8</td>\n",
       "      <td>1006.0</td>\n",
       "      <td>7.0</td>\n",
       "      <td>8.0</td>\n",
       "      <td>17.8</td>\n",
       "      <td>29.7</td>\n",
       "      <td>No</td>\n",
       "      <td>0.2</td>\n",
       "      <td>No</td>\n",
       "    </tr>\n",
       "  </tbody>\n",
       "</table>\n",
       "<p>5 rows × 24 columns</p>\n",
       "</div>"
      ],
      "text/plain": [
       "         Date Location  MinTemp  MaxTemp  Rainfall  Evaporation  Sunshine  \\\n",
       "0  2008-12-01   Albury     13.4     22.9       0.6          NaN       NaN   \n",
       "1  2008-12-02   Albury      7.4     25.1       0.0          NaN       NaN   \n",
       "2  2008-12-03   Albury     12.9     25.7       0.0          NaN       NaN   \n",
       "3  2008-12-04   Albury      9.2     28.0       0.0          NaN       NaN   \n",
       "4  2008-12-05   Albury     17.5     32.3       1.0          NaN       NaN   \n",
       "\n",
       "  WindGustDir  WindGustSpeed WindDir9am  ... Humidity3pm  Pressure9am  \\\n",
       "0           W           44.0          W  ...        22.0       1007.7   \n",
       "1         WNW           44.0        NNW  ...        25.0       1010.6   \n",
       "2         WSW           46.0          W  ...        30.0       1007.6   \n",
       "3          NE           24.0         SE  ...        16.0       1017.6   \n",
       "4           W           41.0        ENE  ...        33.0       1010.8   \n",
       "\n",
       "   Pressure3pm  Cloud9am  Cloud3pm  Temp9am  Temp3pm  RainToday  RISK_MM  \\\n",
       "0       1007.1       8.0       NaN     16.9     21.8         No      0.0   \n",
       "1       1007.8       NaN       NaN     17.2     24.3         No      0.0   \n",
       "2       1008.7       NaN       2.0     21.0     23.2         No      0.0   \n",
       "3       1012.8       NaN       NaN     18.1     26.5         No      1.0   \n",
       "4       1006.0       7.0       8.0     17.8     29.7         No      0.2   \n",
       "\n",
       "   RainTomorrow  \n",
       "0            No  \n",
       "1            No  \n",
       "2            No  \n",
       "3            No  \n",
       "4            No  \n",
       "\n",
       "[5 rows x 24 columns]"
      ]
     },
     "execution_count": 3,
     "metadata": {},
     "output_type": "execute_result"
    }
   ],
   "source": [
    "df.head()"
   ]
  },
  {
   "cell_type": "code",
   "execution_count": 4,
   "id": "1b21305f-3472-4ed5-9a59-a88c09e4cd1b",
   "metadata": {},
   "outputs": [
    {
     "data": {
      "text/plain": [
       "(142193, 24)"
      ]
     },
     "execution_count": 4,
     "metadata": {},
     "output_type": "execute_result"
    }
   ],
   "source": [
    "df.shape"
   ]
  },
  {
   "cell_type": "code",
   "execution_count": 5,
   "id": "8997d9c3-33e4-4ab2-a8ad-f9c673417780",
   "metadata": {},
   "outputs": [
    {
     "name": "stdout",
     "output_type": "stream",
     "text": [
      "<class 'pandas.core.frame.DataFrame'>\n",
      "RangeIndex: 142193 entries, 0 to 142192\n",
      "Data columns (total 24 columns):\n",
      " #   Column         Non-Null Count   Dtype  \n",
      "---  ------         --------------   -----  \n",
      " 0   Date           142193 non-null  object \n",
      " 1   Location       142193 non-null  object \n",
      " 2   MinTemp        141556 non-null  float64\n",
      " 3   MaxTemp        141871 non-null  float64\n",
      " 4   Rainfall       140787 non-null  float64\n",
      " 5   Evaporation    81350 non-null   float64\n",
      " 6   Sunshine       74377 non-null   float64\n",
      " 7   WindGustDir    132863 non-null  object \n",
      " 8   WindGustSpeed  132923 non-null  float64\n",
      " 9   WindDir9am     132180 non-null  object \n",
      " 10  WindDir3pm     138415 non-null  object \n",
      " 11  WindSpeed9am   140845 non-null  float64\n",
      " 12  WindSpeed3pm   139563 non-null  float64\n",
      " 13  Humidity9am    140419 non-null  float64\n",
      " 14  Humidity3pm    138583 non-null  float64\n",
      " 15  Pressure9am    128179 non-null  float64\n",
      " 16  Pressure3pm    128212 non-null  float64\n",
      " 17  Cloud9am       88536 non-null   float64\n",
      " 18  Cloud3pm       85099 non-null   float64\n",
      " 19  Temp9am        141289 non-null  float64\n",
      " 20  Temp3pm        139467 non-null  float64\n",
      " 21  RainToday      140787 non-null  object \n",
      " 22  RISK_MM        142193 non-null  float64\n",
      " 23  RainTomorrow   142193 non-null  object \n",
      "dtypes: float64(17), object(7)\n",
      "memory usage: 26.0+ MB\n"
     ]
    }
   ],
   "source": [
    "df.info()"
   ]
  },
  {
   "cell_type": "code",
   "execution_count": 6,
   "id": "95445fb1-3a90-4496-a28a-04543c1a3c8a",
   "metadata": {},
   "outputs": [],
   "source": [
    "total = df.isnull().sum().sort_values(ascending = False)\n",
    "percent = (df.isnull().sum()/df.isnull().count()).sort_values(ascending = False)"
   ]
  },
  {
   "cell_type": "code",
   "execution_count": 7,
   "id": "695971e3-9b97-40ba-80d6-13c14132cc05",
   "metadata": {},
   "outputs": [],
   "source": [
    "missing_data = pd.concat([total,percent],axis=1,keys=['Total','Percent'])"
   ]
  },
  {
   "cell_type": "code",
   "execution_count": 8,
   "id": "2e538681-4da3-4f67-8a07-5370b38c7080",
   "metadata": {},
   "outputs": [
    {
     "data": {
      "text/html": [
       "<div>\n",
       "<style scoped>\n",
       "    .dataframe tbody tr th:only-of-type {\n",
       "        vertical-align: middle;\n",
       "    }\n",
       "\n",
       "    .dataframe tbody tr th {\n",
       "        vertical-align: top;\n",
       "    }\n",
       "\n",
       "    .dataframe thead th {\n",
       "        text-align: right;\n",
       "    }\n",
       "</style>\n",
       "<table border=\"1\" class=\"dataframe\">\n",
       "  <thead>\n",
       "    <tr style=\"text-align: right;\">\n",
       "      <th></th>\n",
       "      <th>Total</th>\n",
       "      <th>Percent</th>\n",
       "    </tr>\n",
       "  </thead>\n",
       "  <tbody>\n",
       "    <tr>\n",
       "      <th>Sunshine</th>\n",
       "      <td>67816</td>\n",
       "      <td>0.476929</td>\n",
       "    </tr>\n",
       "    <tr>\n",
       "      <th>Evaporation</th>\n",
       "      <td>60843</td>\n",
       "      <td>0.427890</td>\n",
       "    </tr>\n",
       "    <tr>\n",
       "      <th>Cloud3pm</th>\n",
       "      <td>57094</td>\n",
       "      <td>0.401525</td>\n",
       "    </tr>\n",
       "    <tr>\n",
       "      <th>Cloud9am</th>\n",
       "      <td>53657</td>\n",
       "      <td>0.377353</td>\n",
       "    </tr>\n",
       "    <tr>\n",
       "      <th>Pressure9am</th>\n",
       "      <td>14014</td>\n",
       "      <td>0.098556</td>\n",
       "    </tr>\n",
       "    <tr>\n",
       "      <th>Pressure3pm</th>\n",
       "      <td>13981</td>\n",
       "      <td>0.098324</td>\n",
       "    </tr>\n",
       "    <tr>\n",
       "      <th>WindDir9am</th>\n",
       "      <td>10013</td>\n",
       "      <td>0.070418</td>\n",
       "    </tr>\n",
       "    <tr>\n",
       "      <th>WindGustDir</th>\n",
       "      <td>9330</td>\n",
       "      <td>0.065615</td>\n",
       "    </tr>\n",
       "    <tr>\n",
       "      <th>WindGustSpeed</th>\n",
       "      <td>9270</td>\n",
       "      <td>0.065193</td>\n",
       "    </tr>\n",
       "    <tr>\n",
       "      <th>WindDir3pm</th>\n",
       "      <td>3778</td>\n",
       "      <td>0.026570</td>\n",
       "    </tr>\n",
       "    <tr>\n",
       "      <th>Humidity3pm</th>\n",
       "      <td>3610</td>\n",
       "      <td>0.025388</td>\n",
       "    </tr>\n",
       "    <tr>\n",
       "      <th>Temp3pm</th>\n",
       "      <td>2726</td>\n",
       "      <td>0.019171</td>\n",
       "    </tr>\n",
       "    <tr>\n",
       "      <th>WindSpeed3pm</th>\n",
       "      <td>2630</td>\n",
       "      <td>0.018496</td>\n",
       "    </tr>\n",
       "    <tr>\n",
       "      <th>Humidity9am</th>\n",
       "      <td>1774</td>\n",
       "      <td>0.012476</td>\n",
       "    </tr>\n",
       "    <tr>\n",
       "      <th>RainToday</th>\n",
       "      <td>1406</td>\n",
       "      <td>0.009888</td>\n",
       "    </tr>\n",
       "    <tr>\n",
       "      <th>Rainfall</th>\n",
       "      <td>1406</td>\n",
       "      <td>0.009888</td>\n",
       "    </tr>\n",
       "    <tr>\n",
       "      <th>WindSpeed9am</th>\n",
       "      <td>1348</td>\n",
       "      <td>0.009480</td>\n",
       "    </tr>\n",
       "    <tr>\n",
       "      <th>Temp9am</th>\n",
       "      <td>904</td>\n",
       "      <td>0.006358</td>\n",
       "    </tr>\n",
       "    <tr>\n",
       "      <th>MinTemp</th>\n",
       "      <td>637</td>\n",
       "      <td>0.004480</td>\n",
       "    </tr>\n",
       "    <tr>\n",
       "      <th>MaxTemp</th>\n",
       "      <td>322</td>\n",
       "      <td>0.002265</td>\n",
       "    </tr>\n",
       "    <tr>\n",
       "      <th>RISK_MM</th>\n",
       "      <td>0</td>\n",
       "      <td>0.000000</td>\n",
       "    </tr>\n",
       "    <tr>\n",
       "      <th>Date</th>\n",
       "      <td>0</td>\n",
       "      <td>0.000000</td>\n",
       "    </tr>\n",
       "    <tr>\n",
       "      <th>Location</th>\n",
       "      <td>0</td>\n",
       "      <td>0.000000</td>\n",
       "    </tr>\n",
       "    <tr>\n",
       "      <th>RainTomorrow</th>\n",
       "      <td>0</td>\n",
       "      <td>0.000000</td>\n",
       "    </tr>\n",
       "  </tbody>\n",
       "</table>\n",
       "</div>"
      ],
      "text/plain": [
       "               Total   Percent\n",
       "Sunshine       67816  0.476929\n",
       "Evaporation    60843  0.427890\n",
       "Cloud3pm       57094  0.401525\n",
       "Cloud9am       53657  0.377353\n",
       "Pressure9am    14014  0.098556\n",
       "Pressure3pm    13981  0.098324\n",
       "WindDir9am     10013  0.070418\n",
       "WindGustDir     9330  0.065615\n",
       "WindGustSpeed   9270  0.065193\n",
       "WindDir3pm      3778  0.026570\n",
       "Humidity3pm     3610  0.025388\n",
       "Temp3pm         2726  0.019171\n",
       "WindSpeed3pm    2630  0.018496\n",
       "Humidity9am     1774  0.012476\n",
       "RainToday       1406  0.009888\n",
       "Rainfall        1406  0.009888\n",
       "WindSpeed9am    1348  0.009480\n",
       "Temp9am          904  0.006358\n",
       "MinTemp          637  0.004480\n",
       "MaxTemp          322  0.002265\n",
       "RISK_MM            0  0.000000\n",
       "Date               0  0.000000\n",
       "Location           0  0.000000\n",
       "RainTomorrow       0  0.000000"
      ]
     },
     "execution_count": 8,
     "metadata": {},
     "output_type": "execute_result"
    },
    {
     "data": {
      "image/png": "[encoded data removed]",
      "text/plain": [
       "<Figure size 1080x432 with 1 Axes>"
      ]
     },
     "metadata": {
      "needs_background": "light"
     },
     "output_type": "display_data"
    }
   ],
   "source": [
    "f,ax = plt.subplots(figsize=(15,6))\n",
    "plt.xticks(rotation='90')\n",
    "sns.barplot(x = missing_data.index,y = missing_data['Percent'])\n",
    "plt.xlabel('Features',fontsize=15)\n",
    "plt.ylabel('Percent of missing values',fontsize=15)\n",
    "plt.title(\"Percwnt missing data by feature\",fontsize = 15)\n",
    "missing_data"
   ]
  },
  {
   "cell_type": "markdown",
   "id": "05f0f2bb-091e-45d2-b851-3e87e5d938d1",
   "metadata": {},
   "source": [
    "The above bar graph gives the missing value percentage for each features.\n",
    "so droping 'Sunshine','Evaporation','Cloud3pm','Cloud9am'\n",
    ", Date and Location (since it is only for australia so not required)"
   ]
  },
  {
   "cell_type": "code",
   "execution_count": 9,
   "id": "374e7680-adc6-4dcb-8543-86b47a80334f",
   "metadata": {},
   "outputs": [],
   "source": [
    "df = df.drop(['Sunshine','Evaporation','Cloud3pm','Cloud9am','Date','Location','RISK_MM'],axis = 1)"
   ]
  },
  {
   "cell_type": "code",
   "execution_count": null,
   "id": "b81c66db-a19e-4007-b21a-34ce52bc1be8",
   "metadata": {},
   "outputs": [],
   "source": []
  },
  {
   "cell_type": "code",
   "execution_count": null,
   "id": "2c148bc8-d7c5-4205-9ec2-1929e224c85a",
   "metadata": {},
   "outputs": [],
   "source": []
  },
  {
   "cell_type": "code",
   "execution_count": 10,
   "id": "71ff7756-ac47-4e23-bae3-1d07fee23038",
   "metadata": {},
   "outputs": [
    {
     "data": {
      "text/plain": [
       "'“RainToday” and “RainTomorrow” are objects (Yes / No). I will convert them to binary (1/0) for our convenience.'"
      ]
     },
     "execution_count": 10,
     "metadata": {},
     "output_type": "execute_result"
    }
   ],
   "source": [
    "\"\"\"“RainToday” and “RainTomorrow” are objects (Yes / No). I will convert them to binary (1/0) for our convenience.\"\"\""
   ]
  },
  {
   "cell_type": "code",
   "execution_count": 11,
   "id": "8264a72b-4678-4bca-8085-642552952d32",
   "metadata": {},
   "outputs": [],
   "source": [
    "df['RainToday'] = df['RainToday'].map({'No':0,'Yes':1})\n",
    "df['RainTomorrow'] = df['RainTomorrow'].map({'No':0,'Yes':1})"
   ]
  },
  {
   "cell_type": "code",
   "execution_count": 12,
   "id": "13b7d8da-f751-41b8-a52d-40038cb4708c",
   "metadata": {},
   "outputs": [],
   "source": [
    "df = df.dropna(how = 'any')  # also able to fill nan values using mean,median"
   ]
  },
  {
   "cell_type": "code",
   "execution_count": 13,
   "id": "e114e7da-9488-4fbc-914c-ebf322138064",
   "metadata": {},
   "outputs": [],
   "source": [
    "df['WindDir9am']=df['WindDir9am'].map({'W':0, 'NNW':1, 'SE':2, 'ENE':3, 'SW':4, 'SSE':5, 'S':6, 'NE':7, 'SSW':8, 'N':9, 'WSW':10,\n",
    "       'ESE':11, 'E':12, 'NW':13, 'WNW':14,\n",
    "       'NNE':15\n",
    "})"
   ]
  },
  {
   "cell_type": "code",
   "execution_count": 14,
   "id": "c9af1513-222a-41e9-8782-95a32ce35b28",
   "metadata": {},
   "outputs": [],
   "source": [
    "df['WindDir3pm']=df['WindDir3pm'].map({'WNW':0, 'WSW':1, 'E':2, 'NW':3, 'W':4, 'SSE':5, 'ESE':6, 'ENE':7, 'NNW':8, 'SSW':9,\n",
    "       'SW':10, 'SE':11, 'N':12, 'S':13, 'NNE':14,\n",
    "        'NE':15})"
   ]
  },
  {
   "cell_type": "code",
   "execution_count": 15,
   "id": "9cecc1f3-ab93-4d1e-96c5-ccab5d51b45b",
   "metadata": {},
   "outputs": [],
   "source": [
    "df['WindGustDir']=df['WindGustDir'].map({'W':0, 'WNW':1, 'WSW':2, 'NE':3, 'NNW':4, 'N':5, 'NNE':6, 'SW':7, 'ENE':8, 'SSE':9,\n",
    "       'S':10, 'NW':11, 'SE':12, 'ESE':13, \n",
    "       'E':14, 'SSW':15})"
   ]
  },
  {
   "cell_type": "code",
   "execution_count": 16,
   "id": "efbe9f84-96a4-4049-a59d-a547c9b2b58f",
   "metadata": {},
   "outputs": [
    {
     "data": {
      "text/html": [
       "<div>\n",
       "<style scoped>\n",
       "    .dataframe tbody tr th:only-of-type {\n",
       "        vertical-align: middle;\n",
       "    }\n",
       "\n",
       "    .dataframe tbody tr th {\n",
       "        vertical-align: top;\n",
       "    }\n",
       "\n",
       "    .dataframe thead th {\n",
       "        text-align: right;\n",
       "    }\n",
       "</style>\n",
       "<table border=\"1\" class=\"dataframe\">\n",
       "  <thead>\n",
       "    <tr style=\"text-align: right;\">\n",
       "      <th></th>\n",
       "      <th>MinTemp</th>\n",
       "      <th>MaxTemp</th>\n",
       "      <th>Rainfall</th>\n",
       "      <th>WindGustDir</th>\n",
       "      <th>WindGustSpeed</th>\n",
       "      <th>WindDir9am</th>\n",
       "      <th>WindDir3pm</th>\n",
       "      <th>WindSpeed9am</th>\n",
       "      <th>WindSpeed3pm</th>\n",
       "      <th>Humidity9am</th>\n",
       "      <th>Humidity3pm</th>\n",
       "      <th>Pressure9am</th>\n",
       "      <th>Pressure3pm</th>\n",
       "      <th>Temp9am</th>\n",
       "      <th>Temp3pm</th>\n",
       "      <th>RainToday</th>\n",
       "      <th>RainTomorrow</th>\n",
       "    </tr>\n",
       "  </thead>\n",
       "  <tbody>\n",
       "    <tr>\n",
       "      <th>0</th>\n",
       "      <td>13.4</td>\n",
       "      <td>22.9</td>\n",
       "      <td>0.6</td>\n",
       "      <td>0</td>\n",
       "      <td>44.0</td>\n",
       "      <td>0</td>\n",
       "      <td>0</td>\n",
       "      <td>20.0</td>\n",
       "      <td>24.0</td>\n",
       "      <td>71.0</td>\n",
       "      <td>22.0</td>\n",
       "      <td>1007.7</td>\n",
       "      <td>1007.1</td>\n",
       "      <td>16.9</td>\n",
       "      <td>21.8</td>\n",
       "      <td>0.0</td>\n",
       "      <td>0</td>\n",
       "    </tr>\n",
       "    <tr>\n",
       "      <th>1</th>\n",
       "      <td>7.4</td>\n",
       "      <td>25.1</td>\n",
       "      <td>0.0</td>\n",
       "      <td>1</td>\n",
       "      <td>44.0</td>\n",
       "      <td>1</td>\n",
       "      <td>1</td>\n",
       "      <td>4.0</td>\n",
       "      <td>22.0</td>\n",
       "      <td>44.0</td>\n",
       "      <td>25.0</td>\n",
       "      <td>1010.6</td>\n",
       "      <td>1007.8</td>\n",
       "      <td>17.2</td>\n",
       "      <td>24.3</td>\n",
       "      <td>0.0</td>\n",
       "      <td>0</td>\n",
       "    </tr>\n",
       "    <tr>\n",
       "      <th>2</th>\n",
       "      <td>12.9</td>\n",
       "      <td>25.7</td>\n",
       "      <td>0.0</td>\n",
       "      <td>2</td>\n",
       "      <td>46.0</td>\n",
       "      <td>0</td>\n",
       "      <td>1</td>\n",
       "      <td>19.0</td>\n",
       "      <td>26.0</td>\n",
       "      <td>38.0</td>\n",
       "      <td>30.0</td>\n",
       "      <td>1007.6</td>\n",
       "      <td>1008.7</td>\n",
       "      <td>21.0</td>\n",
       "      <td>23.2</td>\n",
       "      <td>0.0</td>\n",
       "      <td>0</td>\n",
       "    </tr>\n",
       "    <tr>\n",
       "      <th>3</th>\n",
       "      <td>9.2</td>\n",
       "      <td>28.0</td>\n",
       "      <td>0.0</td>\n",
       "      <td>3</td>\n",
       "      <td>24.0</td>\n",
       "      <td>2</td>\n",
       "      <td>2</td>\n",
       "      <td>11.0</td>\n",
       "      <td>9.0</td>\n",
       "      <td>45.0</td>\n",
       "      <td>16.0</td>\n",
       "      <td>1017.6</td>\n",
       "      <td>1012.8</td>\n",
       "      <td>18.1</td>\n",
       "      <td>26.5</td>\n",
       "      <td>0.0</td>\n",
       "      <td>0</td>\n",
       "    </tr>\n",
       "    <tr>\n",
       "      <th>4</th>\n",
       "      <td>17.5</td>\n",
       "      <td>32.3</td>\n",
       "      <td>1.0</td>\n",
       "      <td>0</td>\n",
       "      <td>41.0</td>\n",
       "      <td>3</td>\n",
       "      <td>3</td>\n",
       "      <td>7.0</td>\n",
       "      <td>20.0</td>\n",
       "      <td>82.0</td>\n",
       "      <td>33.0</td>\n",
       "      <td>1010.8</td>\n",
       "      <td>1006.0</td>\n",
       "      <td>17.8</td>\n",
       "      <td>29.7</td>\n",
       "      <td>0.0</td>\n",
       "      <td>0</td>\n",
       "    </tr>\n",
       "  </tbody>\n",
       "</table>\n",
       "</div>"
      ],
      "text/plain": [
       "   MinTemp  MaxTemp  Rainfall  WindGustDir  WindGustSpeed  WindDir9am  \\\n",
       "0     13.4     22.9       0.6            0           44.0           0   \n",
       "1      7.4     25.1       0.0            1           44.0           1   \n",
       "2     12.9     25.7       0.0            2           46.0           0   \n",
       "3      9.2     28.0       0.0            3           24.0           2   \n",
       "4     17.5     32.3       1.0            0           41.0           3   \n",
       "\n",
       "   WindDir3pm  WindSpeed9am  WindSpeed3pm  Humidity9am  Humidity3pm  \\\n",
       "0           0          20.0          24.0         71.0         22.0   \n",
       "1           1           4.0          22.0         44.0         25.0   \n",
       "2           1          19.0          26.0         38.0         30.0   \n",
       "3           2          11.0           9.0         45.0         16.0   \n",
       "4           3           7.0          20.0         82.0         33.0   \n",
       "\n",
       "   Pressure9am  Pressure3pm  Temp9am  Temp3pm  RainToday  RainTomorrow  \n",
       "0       1007.7       1007.1     16.9     21.8        0.0             0  \n",
       "1       1010.6       1007.8     17.2     24.3        0.0             0  \n",
       "2       1007.6       1008.7     21.0     23.2        0.0             0  \n",
       "3       1017.6       1012.8     18.1     26.5        0.0             0  \n",
       "4       1010.8       1006.0     17.8     29.7        0.0             0  "
      ]
     },
     "execution_count": 16,
     "metadata": {},
     "output_type": "execute_result"
    }
   ],
   "source": [
    "df.head()"
   ]
  },
  {
   "cell_type": "code",
   "execution_count": 17,
   "id": "9afc05b9-4f4e-44c2-86ff-57845f10f843",
   "metadata": {},
   "outputs": [
    {
     "data": {
      "text/plain": [
       "MinTemp          0\n",
       "MaxTemp          0\n",
       "Rainfall         0\n",
       "WindGustDir      0\n",
       "WindGustSpeed    0\n",
       "WindDir9am       0\n",
       "WindDir3pm       0\n",
       "WindSpeed9am     0\n",
       "WindSpeed3pm     0\n",
       "Humidity9am      0\n",
       "Humidity3pm      0\n",
       "Pressure9am      0\n",
       "Pressure3pm      0\n",
       "Temp9am          0\n",
       "Temp3pm          0\n",
       "RainToday        0\n",
       "RainTomorrow     0\n",
       "dtype: int64"
      ]
     },
     "execution_count": 17,
     "metadata": {},
     "output_type": "execute_result"
    }
   ],
   "source": [
    "df.isnull().sum()"
   ]
  },
  {
   "cell_type": "markdown",
   "id": "879da419-dc6c-4dc9-b72b-ffb2649467db",
   "metadata": {},
   "source": [
    "## Base Model with Logistic"
   ]
  },
  {
   "cell_type": "code",
   "execution_count": 18,
   "id": "6d48e91a-27be-4f0d-97a7-4aa584c8f805",
   "metadata": {},
   "outputs": [],
   "source": [
    "y  = df[\"RainTomorrow\"]\n",
    "X = df.drop(\"RainTomorrow\",axis=1)"
   ]
  },
  {
   "cell_type": "code",
   "execution_count": 19,
   "id": "8df09d41-fb22-475f-b55f-bf85c1b92688",
   "metadata": {},
   "outputs": [],
   "source": [
    "from sklearn.model_selection import train_test_split"
   ]
  },
  {
   "cell_type": "code",
   "execution_count": 20,
   "id": "baf8744c-aecc-4301-87d8-3c8e5896f2a7",
   "metadata": {},
   "outputs": [],
   "source": [
    "X_train, X_test, y_train, y_test = train_test_split(X, y, test_size=0.30, random_state=20)"
   ]
  },
  {
   "cell_type": "code",
   "execution_count": 21,
   "id": "6d5070f2-30b7-4497-beea-9a148b0a9bd2",
   "metadata": {},
   "outputs": [
    {
     "data": {
      "text/html": [
       "<div>\n",
       "<style scoped>\n",
       "    .dataframe tbody tr th:only-of-type {\n",
       "        vertical-align: middle;\n",
       "    }\n",
       "\n",
       "    .dataframe tbody tr th {\n",
       "        vertical-align: top;\n",
       "    }\n",
       "\n",
       "    .dataframe thead th {\n",
       "        text-align: right;\n",
       "    }\n",
       "</style>\n",
       "<table border=\"1\" class=\"dataframe\">\n",
       "  <thead>\n",
       "    <tr style=\"text-align: right;\">\n",
       "      <th></th>\n",
       "      <th>const</th>\n",
       "      <th>MinTemp</th>\n",
       "      <th>MaxTemp</th>\n",
       "      <th>Rainfall</th>\n",
       "      <th>WindGustDir</th>\n",
       "      <th>WindGustSpeed</th>\n",
       "      <th>WindDir9am</th>\n",
       "      <th>WindDir3pm</th>\n",
       "      <th>WindSpeed9am</th>\n",
       "      <th>WindSpeed3pm</th>\n",
       "      <th>Humidity9am</th>\n",
       "      <th>Humidity3pm</th>\n",
       "      <th>Pressure9am</th>\n",
       "      <th>Pressure3pm</th>\n",
       "      <th>Temp9am</th>\n",
       "      <th>Temp3pm</th>\n",
       "      <th>RainToday</th>\n",
       "      <th>RainTomorrow</th>\n",
       "    </tr>\n",
       "  </thead>\n",
       "  <tbody>\n",
       "    <tr>\n",
       "      <th>0</th>\n",
       "      <td>1.0</td>\n",
       "      <td>13.4</td>\n",
       "      <td>22.9</td>\n",
       "      <td>0.6</td>\n",
       "      <td>0</td>\n",
       "      <td>44.0</td>\n",
       "      <td>0</td>\n",
       "      <td>0</td>\n",
       "      <td>20.0</td>\n",
       "      <td>24.0</td>\n",
       "      <td>71.0</td>\n",
       "      <td>22.0</td>\n",
       "      <td>1007.7</td>\n",
       "      <td>1007.1</td>\n",
       "      <td>16.9</td>\n",
       "      <td>21.8</td>\n",
       "      <td>0.0</td>\n",
       "      <td>0</td>\n",
       "    </tr>\n",
       "    <tr>\n",
       "      <th>1</th>\n",
       "      <td>1.0</td>\n",
       "      <td>7.4</td>\n",
       "      <td>25.1</td>\n",
       "      <td>0.0</td>\n",
       "      <td>1</td>\n",
       "      <td>44.0</td>\n",
       "      <td>1</td>\n",
       "      <td>1</td>\n",
       "      <td>4.0</td>\n",
       "      <td>22.0</td>\n",
       "      <td>44.0</td>\n",
       "      <td>25.0</td>\n",
       "      <td>1010.6</td>\n",
       "      <td>1007.8</td>\n",
       "      <td>17.2</td>\n",
       "      <td>24.3</td>\n",
       "      <td>0.0</td>\n",
       "      <td>0</td>\n",
       "    </tr>\n",
       "    <tr>\n",
       "      <th>2</th>\n",
       "      <td>1.0</td>\n",
       "      <td>12.9</td>\n",
       "      <td>25.7</td>\n",
       "      <td>0.0</td>\n",
       "      <td>2</td>\n",
       "      <td>46.0</td>\n",
       "      <td>0</td>\n",
       "      <td>1</td>\n",
       "      <td>19.0</td>\n",
       "      <td>26.0</td>\n",
       "      <td>38.0</td>\n",
       "      <td>30.0</td>\n",
       "      <td>1007.6</td>\n",
       "      <td>1008.7</td>\n",
       "      <td>21.0</td>\n",
       "      <td>23.2</td>\n",
       "      <td>0.0</td>\n",
       "      <td>0</td>\n",
       "    </tr>\n",
       "    <tr>\n",
       "      <th>3</th>\n",
       "      <td>1.0</td>\n",
       "      <td>9.2</td>\n",
       "      <td>28.0</td>\n",
       "      <td>0.0</td>\n",
       "      <td>3</td>\n",
       "      <td>24.0</td>\n",
       "      <td>2</td>\n",
       "      <td>2</td>\n",
       "      <td>11.0</td>\n",
       "      <td>9.0</td>\n",
       "      <td>45.0</td>\n",
       "      <td>16.0</td>\n",
       "      <td>1017.6</td>\n",
       "      <td>1012.8</td>\n",
       "      <td>18.1</td>\n",
       "      <td>26.5</td>\n",
       "      <td>0.0</td>\n",
       "      <td>0</td>\n",
       "    </tr>\n",
       "    <tr>\n",
       "      <th>4</th>\n",
       "      <td>1.0</td>\n",
       "      <td>17.5</td>\n",
       "      <td>32.3</td>\n",
       "      <td>1.0</td>\n",
       "      <td>0</td>\n",
       "      <td>41.0</td>\n",
       "      <td>3</td>\n",
       "      <td>3</td>\n",
       "      <td>7.0</td>\n",
       "      <td>20.0</td>\n",
       "      <td>82.0</td>\n",
       "      <td>33.0</td>\n",
       "      <td>1010.8</td>\n",
       "      <td>1006.0</td>\n",
       "      <td>17.8</td>\n",
       "      <td>29.7</td>\n",
       "      <td>0.0</td>\n",
       "      <td>0</td>\n",
       "    </tr>\n",
       "  </tbody>\n",
       "</table>\n",
       "</div>"
      ],
      "text/plain": [
       "   const  MinTemp  MaxTemp  Rainfall  WindGustDir  WindGustSpeed  WindDir9am  \\\n",
       "0    1.0     13.4     22.9       0.6            0           44.0           0   \n",
       "1    1.0      7.4     25.1       0.0            1           44.0           1   \n",
       "2    1.0     12.9     25.7       0.0            2           46.0           0   \n",
       "3    1.0      9.2     28.0       0.0            3           24.0           2   \n",
       "4    1.0     17.5     32.3       1.0            0           41.0           3   \n",
       "\n",
       "   WindDir3pm  WindSpeed9am  WindSpeed3pm  Humidity9am  Humidity3pm  \\\n",
       "0           0          20.0          24.0         71.0         22.0   \n",
       "1           1           4.0          22.0         44.0         25.0   \n",
       "2           1          19.0          26.0         38.0         30.0   \n",
       "3           2          11.0           9.0         45.0         16.0   \n",
       "4           3           7.0          20.0         82.0         33.0   \n",
       "\n",
       "   Pressure9am  Pressure3pm  Temp9am  Temp3pm  RainToday  RainTomorrow  \n",
       "0       1007.7       1007.1     16.9     21.8        0.0             0  \n",
       "1       1010.6       1007.8     17.2     24.3        0.0             0  \n",
       "2       1007.6       1008.7     21.0     23.2        0.0             0  \n",
       "3       1017.6       1012.8     18.1     26.5        0.0             0  \n",
       "4       1010.8       1006.0     17.8     29.7        0.0             0  "
      ]
     },
     "execution_count": 21,
     "metadata": {},
     "output_type": "execute_result"
    }
   ],
   "source": [
    "from statsmodels.tools import add_constant as add_constant\n",
    "df_constant = add_constant(df)\n",
    "df_constant.head()"
   ]
  },
  {
   "cell_type": "code",
   "execution_count": 22,
   "id": "2cc446f7-9bf1-4ece-a7c5-9c680afaf924",
   "metadata": {},
   "outputs": [
    {
     "name": "stdout",
     "output_type": "stream",
     "text": [
      "Optimization terminated successfully.\n",
      "         Current function value: 0.352697\n",
      "         Iterations 7\n"
     ]
    },
    {
     "data": {
      "text/html": [
       "<table class=\"simpletable\">\n",
       "<caption>Logit Regression Results</caption>\n",
       "<tr>\n",
       "  <th>Dep. Variable:</th>     <td>RainTomorrow</td>   <th>  No. Observations:  </th>  <td>112925</td> \n",
       "</tr>\n",
       "<tr>\n",
       "  <th>Model:</th>                 <td>Logit</td>      <th>  Df Residuals:      </th>  <td>112908</td> \n",
       "</tr>\n",
       "<tr>\n",
       "  <th>Method:</th>                 <td>MLE</td>       <th>  Df Model:          </th>  <td>    16</td> \n",
       "</tr>\n",
       "<tr>\n",
       "  <th>Date:</th>            <td>Tue, 17 Aug 2021</td> <th>  Pseudo R-squ.:     </th>  <td>0.3331</td> \n",
       "</tr>\n",
       "<tr>\n",
       "  <th>Time:</th>                <td>22:17:13</td>     <th>  Log-Likelihood:    </th> <td> -39828.</td>\n",
       "</tr>\n",
       "<tr>\n",
       "  <th>converged:</th>             <td>True</td>       <th>  LL-Null:           </th> <td> -59722.</td>\n",
       "</tr>\n",
       "<tr>\n",
       "  <th>Covariance Type:</th>     <td>nonrobust</td>    <th>  LLR p-value:       </th>  <td> 0.000</td> \n",
       "</tr>\n",
       "</table>\n",
       "<table class=\"simpletable\">\n",
       "<tr>\n",
       "        <td></td>           <th>coef</th>     <th>std err</th>      <th>z</th>      <th>P>|z|</th>  <th>[0.025</th>    <th>0.975]</th>  \n",
       "</tr>\n",
       "<tr>\n",
       "  <th>const</th>         <td>   55.7187</td> <td>    1.644</td> <td>   33.893</td> <td> 0.000</td> <td>   52.497</td> <td>   58.941</td>\n",
       "</tr>\n",
       "<tr>\n",
       "  <th>MinTemp</th>       <td>    0.0247</td> <td>    0.005</td> <td>    5.241</td> <td> 0.000</td> <td>    0.015</td> <td>    0.034</td>\n",
       "</tr>\n",
       "<tr>\n",
       "  <th>MaxTemp</th>       <td>    0.0031</td> <td>    0.008</td> <td>    0.397</td> <td> 0.691</td> <td>   -0.012</td> <td>    0.019</td>\n",
       "</tr>\n",
       "<tr>\n",
       "  <th>Rainfall</th>      <td>    0.0079</td> <td>    0.001</td> <td>    6.698</td> <td> 0.000</td> <td>    0.006</td> <td>    0.010</td>\n",
       "</tr>\n",
       "<tr>\n",
       "  <th>WindGustDir</th>   <td>   -0.0062</td> <td>    0.002</td> <td>   -3.086</td> <td> 0.002</td> <td>   -0.010</td> <td>   -0.002</td>\n",
       "</tr>\n",
       "<tr>\n",
       "  <th>WindGustSpeed</th> <td>    0.0645</td> <td>    0.001</td> <td>   60.238</td> <td> 0.000</td> <td>    0.062</td> <td>    0.067</td>\n",
       "</tr>\n",
       "<tr>\n",
       "  <th>WindDir9am</th>    <td>    0.0073</td> <td>    0.002</td> <td>    3.718</td> <td> 0.000</td> <td>    0.003</td> <td>    0.011</td>\n",
       "</tr>\n",
       "<tr>\n",
       "  <th>WindDir3pm</th>    <td>   -0.0163</td> <td>    0.002</td> <td>   -8.051</td> <td> 0.000</td> <td>   -0.020</td> <td>   -0.012</td>\n",
       "</tr>\n",
       "<tr>\n",
       "  <th>WindSpeed9am</th>  <td>   -0.0105</td> <td>    0.001</td> <td>   -7.354</td> <td> 0.000</td> <td>   -0.013</td> <td>   -0.008</td>\n",
       "</tr>\n",
       "<tr>\n",
       "  <th>WindSpeed3pm</th>  <td>   -0.0429</td> <td>    0.001</td> <td>  -29.603</td> <td> 0.000</td> <td>   -0.046</td> <td>   -0.040</td>\n",
       "</tr>\n",
       "<tr>\n",
       "  <th>Humidity9am</th>   <td>    0.0048</td> <td>    0.001</td> <td>    4.618</td> <td> 0.000</td> <td>    0.003</td> <td>    0.007</td>\n",
       "</tr>\n",
       "<tr>\n",
       "  <th>Humidity3pm</th>   <td>    0.0648</td> <td>    0.001</td> <td>   58.984</td> <td> 0.000</td> <td>    0.063</td> <td>    0.067</td>\n",
       "</tr>\n",
       "<tr>\n",
       "  <th>Pressure9am</th>   <td>    0.1689</td> <td>    0.005</td> <td>   31.487</td> <td> 0.000</td> <td>    0.158</td> <td>    0.179</td>\n",
       "</tr>\n",
       "<tr>\n",
       "  <th>Pressure3pm</th>   <td>   -0.2307</td> <td>    0.005</td> <td>  -42.672</td> <td> 0.000</td> <td>   -0.241</td> <td>   -0.220</td>\n",
       "</tr>\n",
       "<tr>\n",
       "  <th>Temp9am</th>       <td>    0.0004</td> <td>    0.007</td> <td>    0.061</td> <td> 0.952</td> <td>   -0.014</td> <td>    0.015</td>\n",
       "</tr>\n",
       "<tr>\n",
       "  <th>Temp3pm</th>       <td>   -0.0436</td> <td>    0.009</td> <td>   -4.902</td> <td> 0.000</td> <td>   -0.061</td> <td>   -0.026</td>\n",
       "</tr>\n",
       "<tr>\n",
       "  <th>RainToday</th>     <td>    0.5307</td> <td>    0.024</td> <td>   22.015</td> <td> 0.000</td> <td>    0.483</td> <td>    0.578</td>\n",
       "</tr>\n",
       "</table>"
      ],
      "text/plain": [
       "<class 'statsmodels.iolib.summary.Summary'>\n",
       "\"\"\"\n",
       "                           Logit Regression Results                           \n",
       "==============================================================================\n",
       "Dep. Variable:           RainTomorrow   No. Observations:               112925\n",
       "Model:                          Logit   Df Residuals:                   112908\n",
       "Method:                           MLE   Df Model:                           16\n",
       "Date:                Tue, 17 Aug 2021   Pseudo R-squ.:                  0.3331\n",
       "Time:                        22:17:13   Log-Likelihood:                -39828.\n",
       "converged:                       True   LL-Null:                       -59722.\n",
       "Covariance Type:            nonrobust   LLR p-value:                     0.000\n",
       "=================================================================================\n",
       "                    coef    std err          z      P>|z|      [0.025      0.975]\n",
       "---------------------------------------------------------------------------------\n",
       "const            55.7187      1.644     33.893      0.000      52.497      58.941\n",
       "MinTemp           0.0247      0.005      5.241      0.000       0.015       0.034\n",
       "MaxTemp           0.0031      0.008      0.397      0.691      -0.012       0.019\n",
       "Rainfall          0.0079      0.001      6.698      0.000       0.006       0.010\n",
       "WindGustDir      -0.0062      0.002     -3.086      0.002      -0.010      -0.002\n",
       "WindGustSpeed     0.0645      0.001     60.238      0.000       0.062       0.067\n",
       "WindDir9am        0.0073      0.002      3.718      0.000       0.003       0.011\n",
       "WindDir3pm       -0.0163      0.002     -8.051      0.000      -0.020      -0.012\n",
       "WindSpeed9am     -0.0105      0.001     -7.354      0.000      -0.013      -0.008\n",
       "WindSpeed3pm     -0.0429      0.001    -29.603      0.000      -0.046      -0.040\n",
       "Humidity9am       0.0048      0.001      4.618      0.000       0.003       0.007\n",
       "Humidity3pm       0.0648      0.001     58.984      0.000       0.063       0.067\n",
       "Pressure9am       0.1689      0.005     31.487      0.000       0.158       0.179\n",
       "Pressure3pm      -0.2307      0.005    -42.672      0.000      -0.241      -0.220\n",
       "Temp9am           0.0004      0.007      0.061      0.952      -0.014       0.015\n",
       "Temp3pm          -0.0436      0.009     -4.902      0.000      -0.061      -0.026\n",
       "RainToday         0.5307      0.024     22.015      0.000       0.483       0.578\n",
       "=================================================================================\n",
       "\"\"\""
      ]
     },
     "execution_count": 22,
     "metadata": {},
     "output_type": "execute_result"
    }
   ],
   "source": [
    "cols=df_constant.columns[:-1]\n",
    "model=sm.Logit(df.RainTomorrow,df_constant[cols])\n",
    "result=model.fit()\n",
    "result.summary()"
   ]
  },
  {
   "cell_type": "raw",
   "id": "97804f69-5728-456c-9d3d-599f5075c5e9",
   "metadata": {},
   "source": [
    "From the above base model it shows the pseudo r square as 0.331, by\n",
    "fadden r square it says that if pseudo r square is between 0.2 to 0.4 it \n",
    "is a good model and also LLR p value is less than 0.05 means the model is \n",
    "significant."
   ]
  },
  {
   "cell_type": "code",
   "execution_count": 23,
   "id": "f2180a27-c083-4fd6-b719-26b564cf2a80",
   "metadata": {},
   "outputs": [
    {
     "data": {
      "text/plain": [
       "0    0.778446\n",
       "1    0.221554\n",
       "Name: RainTomorrow, dtype: float64"
      ]
     },
     "execution_count": 23,
     "metadata": {},
     "output_type": "execute_result"
    }
   ],
   "source": [
    "df['RainTomorrow'].value_counts(normalize=True)\n"
   ]
  },
  {
   "cell_type": "raw",
   "id": "eb89af95-5912-4936-82dc-54f3a203a162",
   "metadata": {},
   "source": [
    "Since the target variable is highly imbalance. so balancing of the data\n",
    "is needed by using undersampling,oversampling and SMOTE and\n",
    "check for recall and AUC score.\n",
    "\n",
    "\n",
    "Starting with imbalancing and checking the AUC score and after that \n",
    "proceeding with balancing of data."
   ]
  },
  {
   "cell_type": "code",
   "execution_count": 24,
   "id": "3c4f539a-c47d-4635-89e9-141508b17c9d",
   "metadata": {},
   "outputs": [],
   "source": [
    "from sklearn.metrics import accuracy_score,roc_curve,roc_auc_score,confusion_matrix,classification_report"
   ]
  },
  {
   "cell_type": "code",
   "execution_count": 25,
   "id": "650b4a9b-cccb-411e-83ef-c8b16aa1c92a",
   "metadata": {},
   "outputs": [],
   "source": [
    "def imb_predict(algo,xtrain,ytrain,xtest,ytest):\n",
    "    \n",
    "    algo.fit(xtrain,ytrain)\n",
    "    ypred=algo.predict(xtest)\n",
    "    yprob=algo.predict_proba(xtest)[:,1]\n",
    "    \n",
    "    acc=accuracy_score(ytest,ypred)\n",
    "    print('Accuracy Score: ',acc)\n",
    "    \n",
    "    con = confusion_matrix(ytest,ypred)\n",
    "    print('Confusion matrix: \\n',con)\n",
    "    \n",
    "    auc=roc_auc_score(ytest,yprob)\n",
    "    print('AUC: ',auc)\n",
    "    \n",
    "    cr=classification_report(ytest,ypred)\n",
    "    print('Classification report:\\n ',cr)\n",
    "    \n",
    "    fpr,tpr,thresh=roc_curve(ytest,yprob)\n",
    "    plt.plot(fpr,tpr,'b--')\n",
    "    plt.plot(fpr,fpr,'r--')\n",
    "    plt.show()  "
   ]
  },
  {
   "cell_type": "code",
   "execution_count": 26,
   "id": "d2e1f831-44be-4243-a8f7-71edb94095f0",
   "metadata": {},
   "outputs": [],
   "source": [
    "## Logistic Regression"
   ]
  },
  {
   "cell_type": "code",
   "execution_count": 27,
   "id": "a84442e9-2bcc-4556-a4ea-60bedf3678a1",
   "metadata": {},
   "outputs": [
    {
     "name": "stdout",
     "output_type": "stream",
     "text": [
      "Accuracy Score:  0.8478363539760316\n",
      "Confusion matrix: \n",
      " [[24994  1346]\n",
      " [ 3809  3729]]\n",
      "AUC:  0.8630236817839977\n",
      "Classification report:\n",
      "                precision    recall  f1-score   support\n",
      "\n",
      "           0       0.87      0.95      0.91     26340\n",
      "           1       0.73      0.49      0.59      7538\n",
      "\n",
      "    accuracy                           0.85     33878\n",
      "   macro avg       0.80      0.72      0.75     33878\n",
      "weighted avg       0.84      0.85      0.84     33878\n",
      "\n"
     ]
    },
    {
     "data": {
      "image/png": "[encoded data removed]",
      "text/plain": [
       "<Figure size 432x288 with 1 Axes>"
      ]
     },
     "metadata": {
      "needs_background": "light"
     },
     "output_type": "display_data"
    }
   ],
   "source": [
    "from sklearn.linear_model import LogisticRegression\n",
    "lr = LogisticRegression(solver = 'liblinear')\n",
    "\n",
    "imb_predict(lr,X_train,y_train,X_test,y_test)"
   ]
  },
  {
   "cell_type": "markdown",
   "id": "be0e04f7-8773-42ca-8cda-ac11a2a835e0",
   "metadata": {},
   "source": [
    "## K- NN Classifier"
   ]
  },
  {
   "cell_type": "code",
   "execution_count": null,
   "id": "85357ae4-3d4d-4c1f-978a-4fd9d9c7ed81",
   "metadata": {},
   "outputs": [],
   "source": [
    "from sklearn.neighbors import KNeighborsClassifier\n",
    "knn = KNeighborsClassifier()\n",
    "\n",
    "imb_predict(knn,X_train,y_train,X_test,y_test)"
   ]
  },
  {
   "cell_type": "markdown",
   "id": "6ac81c95",
   "metadata": {},
   "source": [
    "## Decision Tree"
   ]
  },
  {
   "cell_type": "code",
   "execution_count": null,
   "id": "3b302a53",
   "metadata": {},
   "outputs": [],
   "source": [
    "from sklearn.tree import DecisionTreeClassifier      \n",
    "dtree=DecisionTreeClassifier(max_depth=5)\n",
    "imb_predict(dtree,X_train,y_train, X_test,y_test)"
   ]
  },
  {
   "cell_type": "markdown",
   "id": "fce16157-1422-4105-9469-635dd5efaca0",
   "metadata": {},
   "source": [
    "## Random Forest Classifier"
   ]
  },
  {
   "cell_type": "code",
   "execution_count": null,
   "id": "ebc897df-0199-4b02-831d-a1ceff881b1d",
   "metadata": {},
   "outputs": [],
   "source": [
    "from sklearn.ensemble import RandomForestClassifier \n",
    "rf=RandomForestClassifier(n_estimators=20)\n",
    "imb_predict(rf,X_train,y_train, X_test,y_test)"
   ]
  },
  {
   "cell_type": "raw",
   "id": "de02cbcd-db5a-475d-9fa2-df1b3079da63",
   "metadata": {},
   "source": [
    "Since the data is imbalance Accuracy is not a good metric.\n",
    "So Area under curve is good metric.\n",
    "\n"
   ]
  },
  {
   "cell_type": "markdown",
   "id": "9ff168b8-af67-4242-8a0f-ce8dfed416c5",
   "metadata": {},
   "source": [
    "## Now performing undersampling"
   ]
  },
  {
   "cell_type": "code",
   "execution_count": null,
   "id": "dd5e4cde-b398-482d-b7c5-63427a9a0ac4",
   "metadata": {},
   "outputs": [],
   "source": [
    "Xy_train=pd.concat([X_train,y_train],axis=1)                         ##unsersampling\n",
    "Xy_train0=Xy_train[Xy_train['RainTomorrow']==0]\n",
    "Xy_train1=Xy_train[Xy_train['RainTomorrow']==1]\n",
    "len1=len(Xy_train1)\n",
    "len0=len(Xy_train0)\n",
    "Xy_train0_us=Xy_train0.sample(n=len1)\n",
    "Xy_train_us=pd.concat([Xy_train1,Xy_train0_us],axis=0)\n",
    "\n",
    "X_train_us=Xy_train_us.drop('RainTomorrow',axis=1)\n",
    "y_train_us=Xy_train_us['RainTomorrow']"
   ]
  },
  {
   "cell_type": "markdown",
   "id": "16f55ab3-6098-4b49-91bd-cfe7c92b1ff5",
   "metadata": {},
   "source": [
    "## Logistic Regression"
   ]
  },
  {
   "cell_type": "code",
   "execution_count": null,
   "id": "bf026546-0959-4a3b-bac1-87965537fde0",
   "metadata": {},
   "outputs": [],
   "source": [
    "imb_predict(lr,X_train_us,y_train_us, X_test,y_test)"
   ]
  },
  {
   "cell_type": "code",
   "execution_count": null,
   "id": "cbeb4f79-92f2-4079-a864-207e4c9a3b92",
   "metadata": {},
   "outputs": [],
   "source": [
    "## KNN Classifier"
   ]
  },
  {
   "cell_type": "code",
   "execution_count": null,
   "id": "b96930e3-ebe2-43d4-91cc-a97e67f2dff6",
   "metadata": {},
   "outputs": [],
   "source": [
    "imb_predict(knn,X_train_us,y_train_us, X_test,y_test) \n"
   ]
  },
  {
   "cell_type": "markdown",
   "id": "516a4361-3057-47a1-8198-845ff8661c43",
   "metadata": {},
   "source": [
    "## Decision Tree Classifier"
   ]
  },
  {
   "cell_type": "code",
   "execution_count": null,
   "id": "fc603817-d7a3-46f5-af2d-2d288c4de372",
   "metadata": {},
   "outputs": [],
   "source": [
    "imb_predict(dtree,X_train_us,y_train_us, X_test,y_test) \n"
   ]
  },
  {
   "cell_type": "markdown",
   "id": "f6e25c96-20b2-40bb-9ac4-a98af02be66e",
   "metadata": {},
   "source": [
    "## Random Forest Classifier"
   ]
  },
  {
   "cell_type": "code",
   "execution_count": null,
   "id": "b69ede4b-1b11-4d9d-90a4-fc3cbccf3c44",
   "metadata": {},
   "outputs": [],
   "source": [
    "imb_predict(rf,X_train_us,y_train_us, X_test,y_test) "
   ]
  },
  {
   "cell_type": "markdown",
   "id": "1256b72a-fd42-46aa-82d2-6e2c3eaedae8",
   "metadata": {},
   "source": [
    "## Over sampling"
   ]
  },
  {
   "cell_type": "code",
   "execution_count": null,
   "id": "8a8cbd12-278c-4532-9139-6b8852a83579",
   "metadata": {},
   "outputs": [],
   "source": [
    "Xy_train=pd.concat([X_train,y_train],axis=1)\n",
    "Xy_train0=Xy_train[Xy_train['RainTomorrow']==0]                     ##oversampling\n",
    "Xy_train1=Xy_train[Xy_train['RainTomorrow']==1]\n",
    "len1=len(Xy_train1)\n",
    "len0=len(Xy_train0)\n",
    "Xy_train1_os=Xy_train1.sample(n=len0,replace=True)\n",
    "Xy_train_os=pd.concat([Xy_train0,Xy_train1_os],axis=0)\n",
    "\n",
    "X_train_os=Xy_train_os.drop('RainTomorrow',axis=1)\n",
    "y_train_os=Xy_train_os['RainTomorrow']"
   ]
  },
  {
   "cell_type": "markdown",
   "id": "a9ca0f3e-55c4-4cb3-b3ae-936508233bdf",
   "metadata": {},
   "source": [
    "## Logistic Regression"
   ]
  },
  {
   "cell_type": "code",
   "execution_count": null,
   "id": "96e5c4f3-c12b-46c6-be49-5e4e26b4c55c",
   "metadata": {},
   "outputs": [],
   "source": [
    "imb_predict(lr,X_train_os,y_train_os, X_test,y_test)\n"
   ]
  },
  {
   "cell_type": "markdown",
   "id": "d56d27f1-6251-47ea-bdf1-905d8d5b868f",
   "metadata": {},
   "source": [
    "## KNN Classifier"
   ]
  },
  {
   "cell_type": "code",
   "execution_count": null,
   "id": "92e8bc93-b9f3-42b4-a79b-4a7cfabf98b7",
   "metadata": {},
   "outputs": [],
   "source": [
    "imb_predict(knn,X_train_os,y_train_os, X_test,y_test)"
   ]
  },
  {
   "cell_type": "markdown",
   "id": "c8827c25-a98d-4d40-b9ce-0e256d77b160",
   "metadata": {},
   "source": [
    "## Decision Tree Classifier"
   ]
  },
  {
   "cell_type": "code",
   "execution_count": null,
   "id": "e56d3fdc-bbf3-4edc-8aaa-8c5ebe681257",
   "metadata": {},
   "outputs": [],
   "source": [
    "imb_predict(dtree,X_train_os,y_train_os, X_test,y_test) "
   ]
  },
  {
   "cell_type": "markdown",
   "id": "53dd4d3c-d9d9-4c9d-b059-82d035fb7f21",
   "metadata": {},
   "source": [
    "## Random Forest Classifier"
   ]
  },
  {
   "cell_type": "code",
   "execution_count": null,
   "id": "46aa5220-b2ba-4d52-b1ce-91d5495db0c2",
   "metadata": {},
   "outputs": [],
   "source": [
    "imb_predict(rf,X_train_os,y_train_os, X_test,y_test)  \n"
   ]
  },
  {
   "cell_type": "markdown",
   "id": "6e2b497b-71e9-4033-ac45-9c04de469bc5",
   "metadata": {},
   "source": [
    "## SMOTE"
   ]
  },
  {
   "cell_type": "code",
   "execution_count": null,
   "id": "f9cd8ee5-aab6-441d-a76e-3fab62699abd",
   "metadata": {},
   "outputs": [],
   "source": [
    "from imblearn.over_sampling import SMOTE\n",
    "smote=SMOTE(ratio='minority')\n",
    "X_train_sm,y_train_sm=smote.fit_sample(X_train,y_train)"
   ]
  },
  {
   "cell_type": "markdown",
   "id": "e994224a-9ac9-4515-9081-0e2d0de62c27",
   "metadata": {},
   "source": [
    "## Logistic Regression"
   ]
  },
  {
   "cell_type": "code",
   "execution_count": null,
   "id": "c1ce4cb7-c2f8-46e6-a7f2-76f528cfe0be",
   "metadata": {},
   "outputs": [],
   "source": [
    "imb_predict(lr,X_train_sm,y_train_sm, X_test,y_test)    \n"
   ]
  },
  {
   "cell_type": "markdown",
   "id": "45cda00b-83fb-4a23-ba06-0f889c1822fb",
   "metadata": {},
   "source": [
    "## KNN Classifier"
   ]
  },
  {
   "cell_type": "code",
   "execution_count": null,
   "id": "b99f5212-40ba-44f1-afee-959f584fc5e8",
   "metadata": {},
   "outputs": [],
   "source": [
    "imb_predict(knn,X_train_sm,y_train_sm, X_test,y_test) \n"
   ]
  },
  {
   "cell_type": "markdown",
   "id": "9632e4cc-f8d0-4a16-b7d9-d70877e34387",
   "metadata": {},
   "source": [
    "## Decision Tree Classifier"
   ]
  },
  {
   "cell_type": "code",
   "execution_count": null,
   "id": "01f48363-bb7f-44d6-a077-910a22be80a9",
   "metadata": {},
   "outputs": [],
   "source": [
    "imb_predict(dtree,X_train_sm,y_train_sm, X_test,y_test)"
   ]
  },
  {
   "cell_type": "markdown",
   "id": "e423b07e-a8d1-4536-9481-6cc0c4099f97",
   "metadata": {},
   "source": [
    "## Random Forest Classifier"
   ]
  },
  {
   "cell_type": "code",
   "execution_count": null,
   "id": "8e47560f-d671-4334-9320-1802663928ea",
   "metadata": {},
   "outputs": [],
   "source": [
    "imb_predict(rf,X_train_sm,y_train_sm, X_test,y_test) \n"
   ]
  }
 ],
 "metadata": {
  "kernelspec": {
   "display_name": "Python 3",
   "language": "python",
   "name": "python3"
  },
  "language_info": {
   "codemirror_mode": {
    "name": "ipython",
    "version": 3
   },
   "file_extension": ".py",
   "mimetype": "text/x-python",
   "name": "python",
   "nbconvert_exporter": "python",
   "pygments_lexer": "ipython3",
   "version": "3.8.8"
  }
 },
 "nbformat": 4,
 "nbformat_minor": 5
}
